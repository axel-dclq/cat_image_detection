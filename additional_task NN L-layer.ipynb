{
 "cells": [
  {
   "cell_type": "markdown",
   "metadata": {},
   "source": [
    "# **Deep Neural Network for Image Classification**"
   ]
  },
  {
   "cell_type": "markdown",
   "metadata": {},
   "source": [
    "### **Introduction**\n",
    "\n",
    "Welcome to my image classification project, a venture into the realm of binary classification distinguishing between images of cats and non-cats. In this project, I've undertaken the implementation of a deep learning model with specific dimensions, defined as layers_dims = [12288, 20, 7, 5, 1], constituting a four-layer neural network. The primary objective of this endeavor was to manually code all the necessary functions for both forward and backward propagation. By delving into this hands-on approach, I aimed to deepen my understanding of neural network architecture and the intricacies of gradient descent. This project serves as a valuable learning experience, providing insights into the mechanics of a neural network's structure and the optimization processes involved."
   ]
  },
  {
   "cell_type": "code",
   "execution_count": 22,
   "metadata": {},
   "outputs": [],
   "source": [
    "import numpy as np\n",
    "import h5py\n",
    "import copy\n",
    "import random\n",
    "import matplotlib.pyplot as plt\n",
    "from PIL import Image"
   ]
  },
  {
   "cell_type": "markdown",
   "metadata": {},
   "source": [
    "### **Dataset**\n",
    "\n",
    "The data I used is stored in two H5 files: train and test.\n",
    "- Features (train_set_x and test_set_x): This array contains the features representing images used for training the neural network. \n",
    "- Labels (train_set_y and test_set_y): This array contains the corresponding labels for the training images, indicating whether each image belongs to a specific class (e.g., cat or non-cat). The labels are initially stored as a row vector and then reshaped to (1, m), where \"m\" is the number of training examples.\n",
    "- Classes (list_classes): This array contains the list of classes used in the dataset. In the context of a binary classification task, it includes labels such as \"cat\" and \"non-cat.\""
   ]
  },
  {
   "cell_type": "code",
   "execution_count": 5,
   "metadata": {},
   "outputs": [],
   "source": [
    "def load_data():\n",
    "    train_dataset = h5py.File('datasets//train_catvnoncat.h5', \"r\")\n",
    "    train_set_x_orig = np.array(train_dataset[\"train_set_x\"][:]) # your train set features\n",
    "    train_set_y_orig = np.array(train_dataset[\"train_set_y\"][:]) # your train set labels\n",
    "\n",
    "    test_dataset = h5py.File('datasets/test_catvnoncat.h5', \"r\")\n",
    "    test_set_x_orig = np.array(test_dataset[\"test_set_x\"][:]) # your test set features\n",
    "    test_set_y_orig = np.array(test_dataset[\"test_set_y\"][:]) # your test set labels\n",
    "\n",
    "    classes = np.array(test_dataset[\"list_classes\"][:]) # the list of classes\n",
    "    \n",
    "    train_set_y_orig = train_set_y_orig.reshape((1, train_set_y_orig.shape[0]))\n",
    "    test_set_y_orig = test_set_y_orig.reshape((1, test_set_y_orig.shape[0]))\n",
    "    \n",
    "    return train_set_x_orig, train_set_y_orig, test_set_x_orig, test_set_y_orig, classes"
   ]
  },
  {
   "cell_type": "code",
   "execution_count": 6,
   "metadata": {},
   "outputs": [],
   "source": [
    "train_x_orig, train_y, test_x_orig, test_y, classes = load_data()"
   ]
  },
  {
   "cell_type": "code",
   "execution_count": 7,
   "metadata": {},
   "outputs": [
    {
     "name": "stdout",
     "output_type": "stream",
     "text": [
      "y = 1. It's a cat picture.\n",
      "56\n"
     ]
    },
    {
     "data": {
      "image/png": "[encoded data removed]",
      "text/plain": [
       "<Figure size 640x480 with 1 Axes>"
      ]
     },
     "metadata": {},
     "output_type": "display_data"
    }
   ],
   "source": [
    "index = random.randint(0,len(train_x_orig))\n",
    "plt.imshow(train_x_orig[index])\n",
    "print (\"y = \" + str(train_y[0,index]) + \". It's a \" + classes[train_y[0,index]].decode(\"utf-8\") +  \" picture.\")\n",
    "print(index)"
   ]
  },
  {
   "cell_type": "markdown",
   "metadata": {},
   "source": [
    "As usual, we reshape and standardize the images before feeding them to the network. The code is given in the cell below.\n",
    "\n",
    "<img src=\"images\\imvectorkiank.png\" style=\"width:450px;height:300px;\">\n",
    "<caption><center><font color='purple'><b>Figure 1</b>: Image to vector conversion.</font></center></caption>"
   ]
  },
  {
   "cell_type": "code",
   "execution_count": 8,
   "metadata": {},
   "outputs": [],
   "source": [
    "# Reshape the training and test examples \n",
    "train_x_flatten = train_x_orig.reshape(train_x_orig.shape[0], -1).T   # The \"-1\" makes reshape flatten the remaining dimensions\n",
    "test_x_flatten = test_x_orig.reshape(test_x_orig.shape[0], -1).T\n",
    "\n",
    "# Standardize data to have feature values between 0 and 1.\n",
    "train_x = train_x_flatten / 255.\n",
    "test_x = test_x_flatten / 255.\n"
   ]
  },
  {
   "cell_type": "markdown",
   "metadata": {},
   "source": [
    "### **Functions to implement the model**\n",
    "\n",
    "Firstly, let's define the function that will initialize randomly our parameters."
   ]
  },
  {
   "cell_type": "code",
   "execution_count": 9,
   "metadata": {},
   "outputs": [],
   "source": [
    "def initialize_parameters_deep(layer_dims):\n",
    "    \"\"\"\n",
    "    Arguments:\n",
    "    layer_dims -- python array (list) containing the dimensions of each layer in our network\n",
    "    \n",
    "    Returns:\n",
    "    parameters -- python dictionary containing your parameters \"W1\", \"b1\", ..., \"WL\", \"bL\":\n",
    "                    Wl -- weight matrix of shape (layer_dims[l], layer_dims[l-1])\n",
    "                    bl -- bias vector of shape (layer_dims[l], 1)\n",
    "    \"\"\"\n",
    "    \n",
    "    np.random.seed(1)\n",
    "    parameters = {}\n",
    "    L = len(layer_dims)            # number of layers in the network\n",
    "\n",
    "    for l in range(1, L):\n",
    "        parameters['W' + str(l)] = np.random.randn(layer_dims[l], layer_dims[l-1]) / np.sqrt(layer_dims[l-1]) #*0.01\n",
    "        parameters['b' + str(l)] = np.zeros((layer_dims[l], 1))\n",
    "        \n",
    "    return parameters"
   ]
  },
  {
   "cell_type": "markdown",
   "metadata": {},
   "source": [
    "The neural network will be composed by L layers as following : \n",
    "- [LINEAR -> RELU] $\\times$ (L-1) -> LINEAR -> SIGMOID (whole model)"
   ]
  },
  {
   "cell_type": "code",
   "execution_count": 10,
   "metadata": {},
   "outputs": [],
   "source": [
    "def relu(z):\n",
    "    cache = z \n",
    "    return np.maximum(0,z), cache\n",
    "\n",
    "def sigmoid(z):\n",
    "    cache = z \n",
    "    return 1 / (1 + np.exp(-z)), cache\n"
   ]
  },
  {
   "cell_type": "code",
   "execution_count": 11,
   "metadata": {},
   "outputs": [],
   "source": [
    "def linear_forward(A_prev, W ,b):\n",
    "    \"\"\" \n",
    "    Input :\n",
    "        - A_prev : activations from the previous layer\n",
    "        - W : weight parameters\n",
    "        - b : bias parameters\n",
    "    \n",
    "    Output :\n",
    "        - Z = A_prev * W + b\n",
    "        - cache : will be useful for backward propagation\n",
    "    \"\"\"\n",
    "    Z = np.dot(W, A_prev) + b \n",
    "    cache = (A_prev, W, b)\n",
    "    return Z, cache\n",
    "\n",
    "def linear_activations_forward(A_prev, W, b, activation):\n",
    " \n",
    "    \"\"\"  \n",
    "    Input :\n",
    "        - A_prev : activations from the previous layer\n",
    "        - W : weight parameters\n",
    "        - b : bias parameters\n",
    "        - activation : (string) the name of the activation function\n",
    "\n",
    "    Ouput :\n",
    "        - activation(Z) and cache\n",
    "    \"\"\"\n",
    "\n",
    "    Z, linear_cache = linear_forward(A_prev, W, b)\n",
    "\n",
    "    if activation == 'sigmoid':\n",
    "        A, activation_cache = sigmoid(Z)\n",
    "    if activation == 'relu':\n",
    "        A, activation_cache = relu(Z)\n",
    "    \n",
    "    cache = (linear_cache, activation_cache)\n",
    "\n",
    "    return A, cache \n",
    "\n",
    "def L_model_forward(X, parameters):\n",
    "    \"\"\"\n",
    "    Implement forward propagation for the [LINEAR->RELU]*(L-1)->LINEAR->SIGMOID computation\n",
    "    \n",
    "    Input:\n",
    "    X : data, numpy array of shape (input size, number of examples)\n",
    "    parameters : output of initialize_parameters_deep()\n",
    "    \n",
    "    Ouput:\n",
    "    AL : activation value from the output (last) layer\n",
    "    caches : list of caches containing:\n",
    "             every cache of linear_activation_forward() (there are L of them, indexed from 0 to L-1)\n",
    "    \"\"\"\n",
    "\n",
    "    caches = []\n",
    "    L = len(parameters) // 2 # number of layers as parameters contains W and b for each layer\n",
    "    A = X\n",
    "\n",
    "    for l in range(1,L):\n",
    "        A_prev = A\n",
    "        A, cache = linear_activations_forward(A_prev, parameters['W' + str(l)], parameters['b' + str(l)], 'relu')\n",
    "        caches.append(cache)\n",
    "\n",
    "    AL, cache =  linear_activations_forward(A, parameters['W' + str(L)], parameters['b' + str(L)], 'sigmoid')\n",
    "    caches.append(cache)\n",
    "\n",
    "    return AL, caches\n"
   ]
  },
  {
   "cell_type": "markdown",
   "metadata": {},
   "source": [
    "Cost function formula for sigmoid : \n",
    "$$-\\frac{1}{m} \\sum\\limits_{i = 1}^{m} (y^{(i)}\\log\\left(a^{[L] (i)}\\right) + (1-y^{(i)})\\log\\left(1- a^{[L](i)}\\right)) \\tag{7}$$"
   ]
  },
  {
   "cell_type": "code",
   "execution_count": 12,
   "metadata": {},
   "outputs": [],
   "source": [
    "def cost_function(AL, Y):\n",
    "    m = Y.shape[1]\n",
    "\n",
    "    cost = (1./m) * (-np.dot(Y,np.log(AL).T) - np.dot(1-Y, np.log(1-AL).T))\n",
    "    \n",
    "    cost = np.squeeze(cost)\n",
    "    \n",
    "    return cost"
   ]
  },
  {
   "cell_type": "markdown",
   "metadata": {},
   "source": [
    "Let's implement the backward propagation\n",
    "\n",
    "**Reminder**: \n",
    "\n",
    "<img src=\"images\\backprop_kiank.png\" style=\"width:650px;height:250px;\">"
   ]
  },
  {
   "cell_type": "markdown",
   "metadata": {},
   "source": [
    "Here is the chain rule of calculus that can be used to derive the derivative of the loss $\\mathcal{L}$ with respect to $z^{[1]}$ in a 2-layer network as follows:\n",
    "\n",
    "$$\\frac{d \\mathcal{L}(a^{[2]},y)}{{dz^{[1]}}} = \\frac{d\\mathcal{L}(a^{[2]},y)}{{da^{[2]}}}\\frac{{da^{[2]}}}{{dz^{[2]}}}\\frac{{dz^{[2]}}}{{da^{[1]}}}\\frac{{da^{[1]}}}{{dz^{[1]}}} \\tag{8} $$\n",
    "\n",
    "In order to calculate the gradient $dW^{[1]} = \\frac{\\partial L}{\\partial W^{[1]}}$, we use the previous chain rule and we do $dW^{[1]} = dZ^{[1]} \\times \\frac{\\partial z^{[1]} }{\\partial W^{[1]}}$. During backpropagation, at each step we multiply our current gradient by the gradient corresponding to the specific layer to get the gradient you wanted.\n",
    "\n",
    "Equivalently, in order to calculate the gradient $db^{[1]} = \\frac{\\partial L}{\\partial b^{[1]}}$, we use the previous chain rule and we do $db^{[1]} = dZ^{[1]} \\times \\frac{\\partial z^{[1]} }{\\partial b^{[1]}}$."
   ]
  },
  {
   "cell_type": "markdown",
   "metadata": {},
   "source": [
    "If $g(.)$ is the activation function, \n",
    "`sigmoid_backward` and `relu_backward` compute $$dZ^{[l]} = dA^{[l]} * g'(Z^{[l]}). \\tag{11}$$"
   ]
  },
  {
   "cell_type": "code",
   "execution_count": 13,
   "metadata": {},
   "outputs": [],
   "source": [
    "def sigmoid_backward(dA, activation_cache):\n",
    "    Z = activation_cache \n",
    "    s, _ = sigmoid(Z)\n",
    "    dZ = dA * s * (1 - s) # g' = s * (1 - s)\n",
    "    return dZ\n",
    "\n",
    "def relu_backward(dA, activation_cache):\n",
    "    Z = activation_cache\n",
    "    dZ = np.array(dA, copy=True)\n",
    "    dZ[Z <= 0] = 0 # the derivate is 0 for z<=0 and 1 for z > 0\n",
    "    return dZ"
   ]
  },
  {
   "cell_type": "markdown",
   "metadata": {},
   "source": [
    "Now, here are the formulas we need:\n",
    "$$ dW^{[l]} = \\frac{\\partial \\mathcal{J} }{\\partial W^{[l]}} = \\frac{1}{m} dZ^{[l]} A^{[l-1] T} \\tag{8}$$\n",
    "$$ db^{[l]} = \\frac{\\partial \\mathcal{J} }{\\partial b^{[l]}} = \\frac{1}{m} \\sum_{i = 1}^{m} dZ^{[l](i)}\\tag{9}$$\n",
    "$$ dA^{[l-1]} = \\frac{\\partial \\mathcal{L} }{\\partial A^{[l-1]}} = W^{[l] T} dZ^{[l]} \\tag{10}$$\n"
   ]
  },
  {
   "cell_type": "code",
   "execution_count": 14,
   "metadata": {},
   "outputs": [],
   "source": [
    "def linear_backward(dZ, linear_cache):\n",
    "    A_prev, W, b = linear_cache\n",
    "    m = A_prev.shape[1]\n",
    "\n",
    "    dW = 1. / m * np.dot(dZ, A_prev.T)\n",
    "    db = 1. /m * np.sum(dZ, axis = 1, keepdims = True)\n",
    "    dA_prev = np.dot(W.T, dZ)\n",
    "\n",
    "    return dA_prev, dW, db"
   ]
  },
  {
   "cell_type": "code",
   "execution_count": 15,
   "metadata": {},
   "outputs": [],
   "source": [
    "def linear_activation_backward(dA, caches, activation):\n",
    "    \"\"\"\n",
    "    Implement the backward propagation for the LINEAR->ACTIVATION layer.\n",
    "    \n",
    "    Input:\n",
    "        dA : post-activation gradient for current layer l \n",
    "        cache : tuple of values (linear_cache, activation_cache) we store for computing backward propagation efficiently\n",
    "        activation : the activation to be used in this layer, stored as a text string: \"sigmoid\" or \"relu\"\n",
    "    \n",
    "    Ouput:\n",
    "        dA_prev : Gradient of the cost with respect to the activation (of the previous layer l-1), same shape as A_prev\n",
    "        dW : Gradient of the cost with respect to W (current layer l), same shape as W\n",
    "        db : Gradient of the cost with respect to b (current layer l), same shape as b\n",
    "    \"\"\"\n",
    "    linear_cache, activation_cache = caches\n",
    "\n",
    "    if activation == 'sigmoid':\n",
    "        dZ = sigmoid_backward(dA, activation_cache)\n",
    "        dA_prev, dW, db = linear_backward(dZ, linear_cache)\n",
    "    \n",
    "    if activation == 'relu':\n",
    "        dZ = relu_backward(dA, activation_cache)\n",
    "        dA_prev, dW, db = linear_backward(dZ, linear_cache)\n",
    "\n",
    "    return dA_prev, dW, db"
   ]
  },
  {
   "cell_type": "code",
   "execution_count": 16,
   "metadata": {},
   "outputs": [],
   "source": [
    "def L_model_backward(AL, Y, caches):\n",
    "    \"\"\"\n",
    "    Implement the backward propagation for the [LINEAR->RELU] * (L-1) -> LINEAR -> SIGMOID group\n",
    "    \n",
    "    Arguments:\n",
    "    AL -- probability vector, output of the forward propagation (L_model_forward())\n",
    "    Y -- true \"label\" vector (containing 0 if non-cat, 1 if cat)\n",
    "    caches -- list of caches containing:\n",
    "                every cache of linear_activation_forward() with \"relu\" (it's caches[l], for l in range(L-1) i.e l = 0...L-2)\n",
    "                the cache of linear_activation_forward() with \"sigmoid\" (it's caches[L-1])\n",
    "    \n",
    "    Returns:\n",
    "    grads -- A dictionary with the gradients\n",
    "             grads[\"dA\" + str(l)] = ... \n",
    "             grads[\"dW\" + str(l)] = ...\n",
    "             grads[\"db\" + str(l)] = ... \n",
    "    \"\"\"\n",
    "\n",
    "    grads = {}\n",
    "    L = len(caches) # the number of layers\n",
    "    Y = Y.reshape(AL.shape) # after this line, Y is the same shape as AL\n",
    "\n",
    "    # Initializing the backpropagation\n",
    "    dAL = - (np.divide(Y, AL) - np.divide(1 - Y, 1 - AL))\n",
    "\n",
    "    # Lth layer \n",
    "    current_cache = caches[L-1]\n",
    "    dA_prev_temp, dW_temp, db_temp = linear_activation_backward(dAL, current_cache, 'sigmoid')\n",
    "    grads[\"dA\" + str(L - 1)] = dA_prev_temp\n",
    "    grads[\"dW\" + str(L)] = dW_temp\n",
    "    grads[\"db\" + str(L)] = db_temp\n",
    "\n",
    "    # Loop from L-1 to 0 \n",
    "    for l in reversed(range(L-1)):\n",
    "        current_cache = caches[l]\n",
    "        dA_prev_temp, dW_temp, db_temp = linear_activation_backward(grads[\"dA\" + str(l + 1)], current_cache, 'relu')\n",
    "        grads[\"dA\" + str(l)] = dA_prev_temp\n",
    "        grads[\"dW\" + str(l + 1)] = dW_temp\n",
    "        grads[\"db\" + str(l + 1)] = db_temp\n",
    "\n",
    "    return grads"
   ]
  },
  {
   "cell_type": "code",
   "execution_count": 17,
   "metadata": {},
   "outputs": [],
   "source": [
    "def update_parameters(params, grads, learning_rate):\n",
    "    parameters = copy.deepcopy(params)\n",
    "    L = len(parameters) // 2 # divided by 2 as paramas contains W and b for each layer\n",
    "\n",
    "    for l in range(L):\n",
    "        parameters['W' + str(l+1)] = parameters['W' + str(l+1)] - learning_rate * grads['dW' + str(l+1)]\n",
    "        parameters['b' + str(l+1)] = parameters['b' + str(l+1)] - learning_rate * grads['db' + str(l+1)]\n",
    "\n",
    "    return parameters"
   ]
  },
  {
   "cell_type": "code",
   "execution_count": 18,
   "metadata": {},
   "outputs": [],
   "source": [
    "def predict(X, y, parameters, treshold=0.5):\n",
    "    probas, _ = L_model_forward(X, parameters)\n",
    "    p = []\n",
    "    for i in range(probas.shape[1]):\n",
    "        p.append(1) if probas[0,i] > treshold else p.append(0)\n",
    "    \n",
    "    print(\"Accuracy: \"  + str(np.sum((p == y)/X.shape[1])))\n",
    "    return p"
   ]
  },
  {
   "cell_type": "markdown",
   "metadata": {},
   "source": [
    "### **Model implementation**\n",
    "\n",
    "Now I finished to create all my functions, I can implement the model and test it."
   ]
  },
  {
   "cell_type": "code",
   "execution_count": 19,
   "metadata": {},
   "outputs": [
    {
     "name": "stdout",
     "output_type": "stream",
     "text": [
      "Cost after 0 iteration : 0.7717493284237686\n",
      "Cost after 100 iteration : 0.6720534400822914\n",
      "Cost after 200 iteration : 0.6482632048575212\n",
      "Cost after 300 iteration : 0.6115068816101354\n",
      "Cost after 400 iteration : 0.5670473268366111\n",
      "Cost after 500 iteration : 0.5401376634547801\n",
      "Cost after 600 iteration : 0.5279299569455267\n",
      "Cost after 700 iteration : 0.4654773771766851\n",
      "Cost after 800 iteration : 0.36912585249592794\n",
      "Cost after 900 iteration : 0.39174697434805344\n",
      "Cost after 1000 iteration : 0.31518698886006163\n",
      "Cost after 1100 iteration : 0.2726998441789385\n",
      "Cost after 1200 iteration : 0.23741853400268137\n",
      "Cost after 1300 iteration : 0.19960120532208647\n",
      "Cost after 1400 iteration : 0.18926300388463305\n",
      "Cost after 1500 iteration : 0.16118854665827748\n",
      "Cost after 1600 iteration : 0.14821389662363316\n",
      "Cost after 1700 iteration : 0.13777487812972944\n",
      "Cost after 1800 iteration : 0.1297401754919012\n",
      "Cost after 1900 iteration : 0.12122535068005212\n",
      "Cost after 2000 iteration : 0.11382060668633712\n",
      "Cost after 2100 iteration : 0.10783928526254132\n",
      "Cost after 2200 iteration : 0.10285466069352679\n",
      "Cost after 2300 iteration : 0.10089745445261787\n",
      "Cost after 2400 iteration : 0.09287821526472395\n",
      "Cost after 2500 iteration : 0.08841251177615041\n",
      "Cost after 2600 iteration : 0.08595130416146428\n",
      "Cost after 2700 iteration : 0.08168126914926332\n",
      "Cost after 2800 iteration : 0.07824661275815532\n",
      "Cost after 2900 iteration : 0.07544408693855481\n",
      "Cost after 3000 iteration : 0.07332386975670677\n",
      "Cost after 3100 iteration : 0.07080897381761472\n",
      "Cost after 3200 iteration : 0.06853724269477726\n",
      "Cost after 3300 iteration : 0.06761490367961305\n",
      "Cost after 3400 iteration : 0.06590333199738145\n",
      "Cost after 3500 iteration : 0.0638526263557319\n",
      "Cost after 3600 iteration : 0.06300193549804745\n",
      "Cost after 3700 iteration : 0.061496230226166085\n",
      "Cost after 3800 iteration : 0.06034725759073128\n",
      "Cost after 3900 iteration : 0.05996310095679888\n",
      "Cost after 4000 iteration : 0.05906589592672247\n",
      "Cost after 4100 iteration : 0.057790364461013134\n",
      "Cost after 4200 iteration : 0.05766573481107874\n",
      "Cost after 4300 iteration : 0.05667822424851994\n",
      "Cost after 4400 iteration : 0.05646898314792886\n",
      "Cost after 4500 iteration : 0.05545271962072085\n",
      "Cost after 4600 iteration : 0.05513460379293065\n",
      "Cost after 4700 iteration : 0.054631512338121226\n",
      "Cost after 4800 iteration : 0.05463463396017982\n",
      "Cost after 4900 iteration : 0.054337129456445775\n",
      "Cost after 4999 iteration : 0.05401980716433104\n",
      "\n",
      "Accuracy: 0.9904306220095691\n",
      "Accuracy: 0.78\n"
     ]
    }
   ],
   "source": [
    "layers_dims = [12288, 20, 7, 5, 1] #  4-layer model\n",
    "\n",
    "def L_layer_model(X, Y, layers_dims, learning_rate = 0.0075, num_iterations = 5000, print_cost=True):\n",
    "\n",
    "    costs = []\n",
    "    parameters = initialize_parameters_deep(layers_dims)\n",
    "    \n",
    "    for i in range(num_iterations):\n",
    "        # Forward propagation\n",
    "        AL, caches = L_model_forward(X, parameters)\n",
    "        \n",
    "        # Compute the cost\n",
    "        cost = cost_function(AL, Y)\n",
    "        costs.append(cost)\n",
    "\n",
    "        # Gradient descent\n",
    "        grads = L_model_backward(AL, Y, caches) \n",
    "\n",
    "        # Update parameters\n",
    "        parameters = update_parameters(parameters, grads, learning_rate)\n",
    "\n",
    "        if (i%100 == 0 or i == num_iterations - 1) and print_cost == True:\n",
    "            print(f'Cost after {i} iteration : {np.squeeze(costs[i])}')\n",
    "        \n",
    "    return parameters, costs\n",
    "\n",
    "parameters, costs = L_layer_model(train_x, train_y, layers_dims)\n",
    "print()\n",
    "pred_train = predict(train_x, train_y, parameters)\n",
    "pred_test = predict(test_x, test_y, parameters)"
   ]
  },
  {
   "cell_type": "markdown",
   "metadata": {},
   "source": [
    "The results on accuracy suggest overfitting. Implementing a regularization method like L1 or L2 could be a good idea, or revisiting the diversification of the dataset. Alternatively, reducing the number of iterations might also be considered."
   ]
  },
  {
   "cell_type": "code",
   "execution_count": 20,
   "metadata": {},
   "outputs": [
    {
     "name": "stdout",
     "output_type": "stream",
     "text": [
      "\n",
      "Accuracy: 0.9904306220095691\n",
      "Accuracy: 0.8200000000000001\n"
     ]
    }
   ],
   "source": [
    "parameters, costs = L_layer_model(train_x, train_y, layers_dims, 0.0075, 3000, print_cost=False)\n",
    "print()\n",
    "pred_train = predict(train_x, train_y, parameters, )\n",
    "pred_test = predict(test_x, test_y, parameters)"
   ]
  },
  {
   "cell_type": "markdown",
   "metadata": {},
   "source": [
    "Indeed, reducing the number of iterations to 3000 resulted in an increase in accuracy from 78% to 82%."
   ]
  },
  {
   "cell_type": "markdown",
   "metadata": {},
   "source": [
    "Let's try the model on my own cat picture."
   ]
  },
  {
   "cell_type": "code",
   "execution_count": 24,
   "metadata": {},
   "outputs": [
    {
     "name": "stdout",
     "output_type": "stream",
     "text": [
      "Accuracy: 1.0\n",
      "y = 1, your L-layer model predicts a \"cat\" picture.\n"
     ]
    },
    {
     "data": {
      "image/png": "[encoded data removed]",
      "text/plain": [
       "<Figure size 640x480 with 1 Axes>"
      ]
     },
     "metadata": {},
     "output_type": "display_data"
    }
   ],
   "source": [
    "m_train = train_x_orig.shape[0]\n",
    "num_px = train_x_orig.shape[1]\n",
    "m_test = test_x_orig.shape[0]\n",
    "\n",
    "my_image = \"chatik.jpg\" # change this to the name of your image file \n",
    "my_label_y = [1] # the true class of your image (1 -> cat, 0 -> non-cat)\n",
    "\n",
    "\n",
    "fname = \"images/\" + my_image\n",
    "image = np.array(Image.open(fname).resize((num_px, num_px)))\n",
    "plt.imshow(image)\n",
    "image = image / 255.\n",
    "image = image.reshape((1, num_px * num_px * 3)).T\n",
    "\n",
    "my_predicted_image = predict(image, my_label_y, parameters)\n",
    "\n",
    "print (\"y = \" + str(np.squeeze(my_predicted_image)) + \", your L-layer model predicts a \\\"\" + classes[int(np.squeeze(my_predicted_image)),].decode(\"utf-8\") +  \"\\\" picture.\")"
   ]
  },
  {
   "cell_type": "code",
   "execution_count": null,
   "metadata": {},
   "outputs": [],
   "source": []
  }
 ],
 "metadata": {
  "kernelspec": {
   "display_name": "Python 3",
   "language": "python",
   "name": "python3"
  },
  "language_info": {
   "codemirror_mode": {
    "name": "ipython",
    "version": 3
   },
   "file_extension": ".py",
   "mimetype": "text/x-python",
   "name": "python",
   "nbconvert_exporter": "python",
   "pygments_lexer": "ipython3",
   "version": "3.11.4"
  },
  "orig_nbformat": 4
 },
 "nbformat": 4,
 "nbformat_minor": 2
}
